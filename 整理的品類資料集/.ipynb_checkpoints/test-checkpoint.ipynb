{
 "cells": [
  {
   "cell_type": "code",
   "execution_count": 1,
   "metadata": {},
   "outputs": [],
   "source": [
    "import pandas as pd "
   ]
  },
  {
   "cell_type": "code",
   "execution_count": 2,
   "metadata": {},
   "outputs": [],
   "source": [
    "data = pd.read_csv('cat_train_v2.csv')"
   ]
  },
  {
   "cell_type": "code",
   "execution_count": 6,
   "metadata": {},
   "outputs": [
    {
     "data": {
      "text/html": [
       "<div>\n",
       "<style scoped>\n",
       "    .dataframe tbody tr th:only-of-type {\n",
       "        vertical-align: middle;\n",
       "    }\n",
       "\n",
       "    .dataframe tbody tr th {\n",
       "        vertical-align: top;\n",
       "    }\n",
       "\n",
       "    .dataframe thead th {\n",
       "        text-align: right;\n",
       "    }\n",
       "</style>\n",
       "<table border=\"1\" class=\"dataframe\">\n",
       "  <thead>\n",
       "    <tr style=\"text-align: right;\">\n",
       "      <th></th>\n",
       "      <th>name</th>\n",
       "      <th>occurred_at</th>\n",
       "      <th>iv_price</th>\n",
       "      <th>units</th>\n",
       "      <th>unit_price</th>\n",
       "      <th>total_price</th>\n",
       "      <th>channel</th>\n",
       "      <th>product</th>\n",
       "    </tr>\n",
       "  </thead>\n",
       "  <tbody>\n",
       "    <tr>\n",
       "      <th>0</th>\n",
       "      <td>R視舒坦單支裝人工淚液點眼液0.5ml 24支入</td>\n",
       "      <td>2021/1/10</td>\n",
       "      <td>984</td>\n",
       "      <td>1.0</td>\n",
       "      <td>389.0</td>\n",
       "      <td>369.0</td>\n",
       "      <td>2c2cc93adb503077c729a911c56c33b9</td>\n",
       "      <td>人工淚液</td>\n",
       "    </tr>\n",
       "    <tr>\n",
       "      <th>1</th>\n",
       "      <td>優麗舒點眼液15ML</td>\n",
       "      <td>2021/1/6</td>\n",
       "      <td>3264</td>\n",
       "      <td>1.0</td>\n",
       "      <td>275.0</td>\n",
       "      <td>275.0</td>\n",
       "      <td>6e4a29dff31f61e4697e99cc7ca6fb32</td>\n",
       "      <td>人工淚液</td>\n",
       "    </tr>\n",
       "    <tr>\n",
       "      <th>2</th>\n",
       "      <td>(R)視舒坦單支裝人工</td>\n",
       "      <td>2021/1/2</td>\n",
       "      <td>1357</td>\n",
       "      <td>1.0</td>\n",
       "      <td>369.0</td>\n",
       "      <td>369.0</td>\n",
       "      <td>e986ac35e1cc20804d869c557be26cf9</td>\n",
       "      <td>人工淚液</td>\n",
       "    </tr>\n",
       "    <tr>\n",
       "      <th>3</th>\n",
       "      <td>Rohto乾眼淚液</td>\n",
       "      <td>2021/1/2</td>\n",
       "      <td>1029</td>\n",
       "      <td>1.0</td>\n",
       "      <td>251.0</td>\n",
       "      <td>251.0</td>\n",
       "      <td>744d57a1f2862ef004885122c81a890b</td>\n",
       "      <td>人工淚液</td>\n",
       "    </tr>\n",
       "    <tr>\n",
       "      <th>4</th>\n",
       "      <td>R參天柔潤人工淚液點眼液 5ml 4入</td>\n",
       "      <td>2021/1/9</td>\n",
       "      <td>1538</td>\n",
       "      <td>1.0</td>\n",
       "      <td>278.0</td>\n",
       "      <td>278.0</td>\n",
       "      <td>2c2cc93adb503077c729a911c56c33b9</td>\n",
       "      <td>人工淚液</td>\n",
       "    </tr>\n",
       "    <tr>\n",
       "      <th>...</th>\n",
       "      <td>...</td>\n",
       "      <td>...</td>\n",
       "      <td>...</td>\n",
       "      <td>...</td>\n",
       "      <td>...</td>\n",
       "      <td>...</td>\n",
       "      <td>...</td>\n",
       "      <td>...</td>\n",
       "    </tr>\n",
       "    <tr>\n",
       "      <th>92301</th>\n",
       "      <td>mdmmd微醺心機漸層腮紅-玫瑰瑪格麗特</td>\n",
       "      <td>2021/1/2</td>\n",
       "      <td>1252</td>\n",
       "      <td>1.0</td>\n",
       "      <td>200.0</td>\n",
       "      <td>200.0</td>\n",
       "      <td>8f380da3a6649797d3ea944d42a27bae</td>\n",
       "      <td>腮紅</td>\n",
       "    </tr>\n",
       "    <tr>\n",
       "      <th>92302</th>\n",
       "      <td>mdmmd微醺心機漸層腮紅-橙酒</td>\n",
       "      <td>2021/1/2</td>\n",
       "      <td>607</td>\n",
       "      <td>1.0</td>\n",
       "      <td>200.0</td>\n",
       "      <td>200.0</td>\n",
       "      <td>4543a64b0820cb83e815f1f0a0fa71ae</td>\n",
       "      <td>腮紅</td>\n",
       "    </tr>\n",
       "    <tr>\n",
       "      <th>92303</th>\n",
       "      <td>倫敦芮魅 叛逆玩色腮紅盤005 微醺酒紅</td>\n",
       "      <td>2021/1/10</td>\n",
       "      <td>582</td>\n",
       "      <td>1.0</td>\n",
       "      <td>212.5</td>\n",
       "      <td>212.5</td>\n",
       "      <td>9d257a2566133c879b49bc80b13c074f</td>\n",
       "      <td>腮紅</td>\n",
       "    </tr>\n",
       "    <tr>\n",
       "      <th>92304</th>\n",
       "      <td>PALLADIO柔光幻彩貝殼腮紅微醺蜜桃</td>\n",
       "      <td>2021/1/1</td>\n",
       "      <td>857</td>\n",
       "      <td>1.0</td>\n",
       "      <td>169.0</td>\n",
       "      <td>169.0</td>\n",
       "      <td>c7e03374a211547565affefee1b98376</td>\n",
       "      <td>腮紅</td>\n",
       "    </tr>\n",
       "    <tr>\n",
       "      <th>92305</th>\n",
       "      <td>【韓國 E-glips】粉嫩微醺美肌花瓣腮紅4g(6色可選)</td>\n",
       "      <td>2021/1/9</td>\n",
       "      <td>754</td>\n",
       "      <td>1.0</td>\n",
       "      <td>285.0</td>\n",
       "      <td>285.0</td>\n",
       "      <td>bceb22fe7ebb8d831758f603636b37ec</td>\n",
       "      <td>腮紅</td>\n",
       "    </tr>\n",
       "  </tbody>\n",
       "</table>\n",
       "<p>92306 rows × 8 columns</p>\n",
       "</div>"
      ],
      "text/plain": [
       "                                 name occurred_at  iv_price  units  \\\n",
       "0            R視舒坦單支裝人工淚液點眼液0.5ml 24支入   2021/1/10       984    1.0   \n",
       "1                          優麗舒點眼液15ML    2021/1/6      3264    1.0   \n",
       "2                         (R)視舒坦單支裝人工    2021/1/2      1357    1.0   \n",
       "3                           Rohto乾眼淚液    2021/1/2      1029    1.0   \n",
       "4                 R參天柔潤人工淚液點眼液 5ml 4入    2021/1/9      1538    1.0   \n",
       "...                               ...         ...       ...    ...   \n",
       "92301            mdmmd微醺心機漸層腮紅-玫瑰瑪格麗特    2021/1/2      1252    1.0   \n",
       "92302                mdmmd微醺心機漸層腮紅-橙酒    2021/1/2       607    1.0   \n",
       "92303            倫敦芮魅 叛逆玩色腮紅盤005 微醺酒紅   2021/1/10       582    1.0   \n",
       "92304            PALLADIO柔光幻彩貝殼腮紅微醺蜜桃    2021/1/1       857    1.0   \n",
       "92305  【韓國 E-glips】粉嫩微醺美肌花瓣腮紅4g(6色可選)    2021/1/9       754    1.0   \n",
       "\n",
       "       unit_price  total_price                           channel product  \n",
       "0           389.0        369.0  2c2cc93adb503077c729a911c56c33b9    人工淚液  \n",
       "1           275.0        275.0  6e4a29dff31f61e4697e99cc7ca6fb32    人工淚液  \n",
       "2           369.0        369.0  e986ac35e1cc20804d869c557be26cf9    人工淚液  \n",
       "3           251.0        251.0  744d57a1f2862ef004885122c81a890b    人工淚液  \n",
       "4           278.0        278.0  2c2cc93adb503077c729a911c56c33b9    人工淚液  \n",
       "...           ...          ...                               ...     ...  \n",
       "92301       200.0        200.0  8f380da3a6649797d3ea944d42a27bae      腮紅  \n",
       "92302       200.0        200.0  4543a64b0820cb83e815f1f0a0fa71ae      腮紅  \n",
       "92303       212.5        212.5  9d257a2566133c879b49bc80b13c074f      腮紅  \n",
       "92304       169.0        169.0  c7e03374a211547565affefee1b98376      腮紅  \n",
       "92305       285.0        285.0  bceb22fe7ebb8d831758f603636b37ec      腮紅  \n",
       "\n",
       "[92306 rows x 8 columns]"
      ]
     },
     "execution_count": 6,
     "metadata": {},
     "output_type": "execute_result"
    }
   ],
   "source": [
    "data"
   ]
  },
  {
   "cell_type": "code",
   "execution_count": 24,
   "metadata": {},
   "outputs": [
    {
     "data": {
      "text/plain": [
       "name    62402\n",
       "Name: 13, dtype: object"
      ]
     },
     "execution_count": 24,
     "metadata": {},
     "output_type": "execute_result"
    }
   ],
   "source": [
    "test = data[['name']]\n",
    "test.loc[13]"
   ]
  },
  {
   "cell_type": "code",
   "execution_count": 11,
   "metadata": {},
   "outputs": [],
   "source": [
    "brand_list = list(data.loc[:, 'name'])"
   ]
  },
  {
   "cell_type": "code",
   "execution_count": 48,
   "metadata": {},
   "outputs": [
    {
     "data": {
      "text/plain": [
       "'優麗舒點眼液15ML'"
      ]
     },
     "execution_count": 48,
     "metadata": {},
     "output_type": "execute_result"
    }
   ],
   "source": [
    "brand_list[1]"
   ]
  },
  {
   "cell_type": "code",
   "execution_count": null,
   "metadata": {},
   "outputs": [],
   "source": [
    "import jieba"
   ]
  },
  {
   "cell_type": "code",
   "execution_count": 52,
   "metadata": {},
   "outputs": [],
   "source": [
    "wd = brand_list[1]"
   ]
  },
  {
   "cell_type": "code",
   "execution_count": 54,
   "metadata": {},
   "outputs": [],
   "source": [
    "stopwords = [line.strip() for line in open('./stoplist.txt', 'r', encoding='utf-8').readlines()]  \n",
    "sw = \"\".join(stopwords)"
   ]
  },
  {
   "cell_type": "code",
   "execution_count": 55,
   "metadata": {},
   "outputs": [
    {
     "data": {
      "text/plain": [
       "'入包片瓶號罐盒組公分公斤公升毫升袋公克磅箱裝顆粒錠桶塊束條吋抽個枚張串捲雙加侖支公尺頁本筒XSxsSsMmLlXLxlXXLxxlXXXLxxxlMLmlOZozGgKGkgCMcmmm+-()*/_#&:!()[]★\\'\\\\|‘,x【】\".-.±~~、'"
      ]
     },
     "execution_count": 55,
     "metadata": {},
     "output_type": "execute_result"
    }
   ],
   "source": [
    "sw"
   ]
  },
  {
   "cell_type": "code",
   "execution_count": null,
   "metadata": {},
   "outputs": [],
   "source": [
    "re.sub(\"\\!|\\'|\\?\",\"\",wd)"
   ]
  },
  {
   "cell_type": "code",
   "execution_count": null,
   "metadata": {},
   "outputs": [],
   "source": []
  },
  {
   "cell_type": "code",
   "execution_count": null,
   "metadata": {},
   "outputs": [],
   "source": [
    "#無用"
   ]
  },
  {
   "cell_type": "code",
   "execution_count": 49,
   "metadata": {},
   "outputs": [],
   "source": [
    "def stopwordslist(filepath):  \n",
    "    stopwords = [line.strip() for line in open(filepath, 'r', encoding='utf-8').readlines()]  \n",
    "    return stopwords  \n",
    "\n",
    "def seg_sentence(sentence):  \n",
    "    sentence_seged = jieba.cut_for_search(sentence)  \n",
    "    stopwords = stopwordslist('./stoplist.txt')  # 這裏加載停用詞的路徑  \n",
    "    outstr = ''  \n",
    "    for word in sentence_seged:  \n",
    "        if word not in stopwords:  \n",
    "            if word != '\\t':  \n",
    "                outstr += word  \n",
    "                outstr += \" \"   \n",
    "    return outstr  \n",
    "\n",
    "\n",
    "\n",
    "line_seg = seg_sentence('優麗舒點眼液15ML')  # 這裏的返回值是字符串  "
   ]
  }
 ],
 "metadata": {
  "interpreter": {
   "hash": "b0fa6594d8f4cbf19f97940f81e996739fb7646882a419484c72d19e05852a7e"
  },
  "kernelspec": {
   "display_name": "Python 3 (ipykernel)",
   "language": "python",
   "name": "python3"
  },
  "language_info": {
   "codemirror_mode": {
    "name": "ipython",
    "version": 3
   },
   "file_extension": ".py",
   "mimetype": "text/x-python",
   "name": "python",
   "nbconvert_exporter": "python",
   "pygments_lexer": "ipython3",
   "version": "3.9.12"
  }
 },
 "nbformat": 4,
 "nbformat_minor": 2
}
