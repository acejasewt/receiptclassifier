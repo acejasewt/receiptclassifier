{
 "cells": [
  {
   "cell_type": "code",
   "execution_count": 1,
   "id": "5f92bbd9",
   "metadata": {},
   "outputs": [],
   "source": [
    "import pandas as pd\n",
    "import numpy as np\n",
    "import csv\n",
    "import re"
   ]
  },
  {
   "cell_type": "code",
   "execution_count": 11,
   "id": "4b5b4f90",
   "metadata": {},
   "outputs": [
    {
     "name": "stdout",
     "output_type": "stream",
     "text": [
      "資料總筆數: 92306\n",
      "品類總數: 272\n"
     ]
    }
   ],
   "source": [
    "data = pd.read_csv('cat_train_v2.csv')\n",
    "\n",
    "data = data[['name','product']]\n",
    "print('資料總筆數:', len(data))\n",
    "print('品類總數:', len(data['product'].unique()))"
   ]
  },
  {
   "cell_type": "code",
   "execution_count": 13,
   "id": "df57a083",
   "metadata": {},
   "outputs": [],
   "source": [
    "# 全形轉半形\n",
    "def strQ2B(ustring):\n",
    "    rstring = \"\"\n",
    "    for uchar in ustring:\n",
    "        inside_code = ord(uchar)\n",
    "        if inside_code == 12288:                            # 全形空格直接轉換\n",
    "            inside_code = 32\n",
    "        elif 65281 <= inside_code <= 65374:                # 全形字元（除空格）根據關係轉化\n",
    "            inside_code -= 65248\n",
    "        rstring += chr(inside_code)\n",
    "    return rstring"
   ]
  },
  {
   "cell_type": "code",
   "execution_count": 14,
   "id": "8fe44269",
   "metadata": {
    "scrolled": true
   },
   "outputs": [
    {
     "data": {
      "text/html": [
       "<div>\n",
       "<style scoped>\n",
       "    .dataframe tbody tr th:only-of-type {\n",
       "        vertical-align: middle;\n",
       "    }\n",
       "\n",
       "    .dataframe tbody tr th {\n",
       "        vertical-align: top;\n",
       "    }\n",
       "\n",
       "    .dataframe thead th {\n",
       "        text-align: right;\n",
       "    }\n",
       "</style>\n",
       "<table border=\"1\" class=\"dataframe\">\n",
       "  <thead>\n",
       "    <tr style=\"text-align: right;\">\n",
       "      <th></th>\n",
       "      <th>name</th>\n",
       "      <th>product</th>\n",
       "    </tr>\n",
       "  </thead>\n",
       "  <tbody>\n",
       "    <tr>\n",
       "      <th>0</th>\n",
       "      <td>r視舒坦單支裝人工淚液點眼液0.5ml 24支入</td>\n",
       "      <td>人工淚液</td>\n",
       "    </tr>\n",
       "    <tr>\n",
       "      <th>1</th>\n",
       "      <td>優麗舒點眼液15ml</td>\n",
       "      <td>人工淚液</td>\n",
       "    </tr>\n",
       "    <tr>\n",
       "      <th>2</th>\n",
       "      <td>(r)視舒坦單支裝人工</td>\n",
       "      <td>人工淚液</td>\n",
       "    </tr>\n",
       "    <tr>\n",
       "      <th>3</th>\n",
       "      <td>rohto乾眼淚液</td>\n",
       "      <td>人工淚液</td>\n",
       "    </tr>\n",
       "    <tr>\n",
       "      <th>4</th>\n",
       "      <td>r參天柔潤人工淚液點眼液 5ml 4入</td>\n",
       "      <td>人工淚液</td>\n",
       "    </tr>\n",
       "    <tr>\n",
       "      <th>...</th>\n",
       "      <td>...</td>\n",
       "      <td>...</td>\n",
       "    </tr>\n",
       "    <tr>\n",
       "      <th>92301</th>\n",
       "      <td>mdmmd微醺心機漸層腮紅-玫瑰瑪格麗特</td>\n",
       "      <td>腮紅</td>\n",
       "    </tr>\n",
       "    <tr>\n",
       "      <th>92302</th>\n",
       "      <td>mdmmd微醺心機漸層腮紅-橙酒</td>\n",
       "      <td>腮紅</td>\n",
       "    </tr>\n",
       "    <tr>\n",
       "      <th>92303</th>\n",
       "      <td>倫敦芮魅 叛逆玩色腮紅盤005 微醺酒紅</td>\n",
       "      <td>腮紅</td>\n",
       "    </tr>\n",
       "    <tr>\n",
       "      <th>92304</th>\n",
       "      <td>palladio柔光幻彩貝殼腮紅微醺蜜桃</td>\n",
       "      <td>腮紅</td>\n",
       "    </tr>\n",
       "    <tr>\n",
       "      <th>92305</th>\n",
       "      <td>【韓國 e-glips】粉嫩微醺美肌花瓣腮紅4g(6色可選)</td>\n",
       "      <td>腮紅</td>\n",
       "    </tr>\n",
       "  </tbody>\n",
       "</table>\n",
       "<p>92306 rows × 2 columns</p>\n",
       "</div>"
      ],
      "text/plain": [
       "                                 name product\n",
       "0            r視舒坦單支裝人工淚液點眼液0.5ml 24支入    人工淚液\n",
       "1                          優麗舒點眼液15ml    人工淚液\n",
       "2                         (r)視舒坦單支裝人工    人工淚液\n",
       "3                           rohto乾眼淚液    人工淚液\n",
       "4                 r參天柔潤人工淚液點眼液 5ml 4入    人工淚液\n",
       "...                               ...     ...\n",
       "92301            mdmmd微醺心機漸層腮紅-玫瑰瑪格麗特      腮紅\n",
       "92302                mdmmd微醺心機漸層腮紅-橙酒      腮紅\n",
       "92303            倫敦芮魅 叛逆玩色腮紅盤005 微醺酒紅      腮紅\n",
       "92304            palladio柔光幻彩貝殼腮紅微醺蜜桃      腮紅\n",
       "92305  【韓國 e-glips】粉嫩微醺美肌花瓣腮紅4g(6色可選)      腮紅\n",
       "\n",
       "[92306 rows x 2 columns]"
      ]
     },
     "execution_count": 14,
     "metadata": {},
     "output_type": "execute_result"
    }
   ],
   "source": [
    "# 大寫轉小寫\n",
    "data['name'] = data['name'].str.lower()\n",
    "\n",
    "for i in range(len(data)):\n",
    "    try:\n",
    "        data['name'][i] = strQ2B(data['name'][i])\n",
    "    except:\n",
    "        pass\n",
    "data"
   ]
  },
  {
   "cell_type": "code",
   "execution_count": null,
   "id": "3f49320c",
   "metadata": {},
   "outputs": [],
   "source": [
    "def clean_review(text):\n",
    "    remove_measure = "
   ]
  }
 ],
 "metadata": {
  "kernelspec": {
   "display_name": "Python 3 (ipykernel)",
   "language": "python",
   "name": "python3"
  },
  "language_info": {
   "codemirror_mode": {
    "name": "ipython",
    "version": 3
   },
   "file_extension": ".py",
   "mimetype": "text/x-python",
   "name": "python",
   "nbconvert_exporter": "python",
   "pygments_lexer": "ipython3",
   "version": "3.9.12"
  }
 },
 "nbformat": 4,
 "nbformat_minor": 5
}
